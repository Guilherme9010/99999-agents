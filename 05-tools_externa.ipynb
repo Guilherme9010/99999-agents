{
 "cells": [
  {
   "cell_type": "markdown",
   "metadata": {},
   "source": [
    "### Integrando Tools Externas"
   ]
  },
  {
   "cell_type": "code",
   "execution_count": 2,
   "metadata": {},
   "outputs": [],
   "source": [
    "import wikipedia\n",
    "from langchain.agents import tool\n",
    "\n",
    "wikipedia.set_lang(\"pt\")"
   ]
  },
  {
   "cell_type": "code",
   "execution_count": 3,
   "metadata": {},
   "outputs": [],
   "source": [
    "@tool\n",
    "def busca_wikipedia(query: str):\n",
    "    \"\"\"Busca dados no wikipedia e retorna resumos de páginas para a query\"\"\"\n",
    "    titulo_paginas = wikipedia.search(query)\n",
    "    resumos = []\n",
    "    for titulo in titulo_paginas[:3]:\n",
    "        try:\n",
    "            wiki_page = wikipedia.page(title=titulo, auto_suggest=True)\n",
    "            resumos.append(f\"Título: {titulo}\\nResumo: {wiki_page.summary}\")\n",
    "        except:\n",
    "            pass\n",
    "    if not resumos:\n",
    "        return \"Busca não teve retorno\"\n",
    "    else:\n",
    "        return \"\\n\\n\".join(resumos)"
   ]
  },
  {
   "cell_type": "code",
   "execution_count": 4,
   "metadata": {},
   "outputs": [
    {
     "data": {
      "text/plain": [
       "'Título: LangChain\\nResumo: LangChain é um framework de código aberto para o desenvolvimento de aplicações usando modelos de linguagem grandes. Tratando-se de um framework para integração com modelos de linguagem, os casos de uso da LangChain intersectam-se com aqueles dos modelos em si, e incluem sumarização de texto, chat bots, e análise de código.\\n\\nTítulo: Agente inteligente\\nResumo: Em inteligência artificial, um agente inteligente é uma entidade que identifica o seu ambiente, toma ações de forma autónoma para atingir objetivos e pode melhorar o seu desempenho através da aprendizagem automática ou adquirindo conhecimento. Os principais manuais de IA definem a inteligência artificial como o \"estudo e design de agentes inteligentes\", destacando que o comportamento orientado para objetivos é essencial para a inteligência.\\nUm subconjunto especializado de agentes inteligentes, IA agêntica (também conhecidos como agentes de IA ou simplesmente agentes), expande este conceito ao perseguir objetivos proativamente, tomar decisões e realizar ações durante longos períodos, exemplificando assim uma nova forma de agência digital.\\nOs agentes inteligentes podem variar de simples a altamente complexos. Um termóstato ou sistema de controlo básico é considerado um agente inteligente, tal como um ser humano, ou qualquer outro sistema que cumpra os mesmos critérios — como uma firma, um estado, ou um bioma.\\nOs agentes inteligentes operam com base numa função objetiva, que encapsula os seus objetivos. Eles são projetados para criar e executar planos que maximizem o valor esperado desta função após a conclusão. Por exemplo, um agente de aprendizagem por reforço tem uma função de recompensa, que permite aos programadores moldar e atingir o seu comportamento desejado. Do mesmo modo, o comportamento dum algoritmo evolucionário é guiado por uma função de aptidão.\\nOs agentes inteligentes em inteligência artificial, estão intimamente relacionados com agentes em economia, e versões do paradigma do agente inteligente são estudadas em ciência cognitiva, ética e na filosofia da razão prática, bem como em muitas modelações científicas sócio cognitivas interdisciplinares e simulações sociais computacionais.\\nOs agentes inteligentes são frequentemente descritos esquematicamente como sistemas funcionais abstratos semelhantes a programas de computador. Para distinguir modelos teóricos de implementações do mundo real, as descrições abstratas de agentes inteligentes, são designadas por agentes inteligentes abstratos. Os agentes inteligentes estão também intimamente relacionados com os agentes de software — programas de computador autónomos que executam operações em nome dos utilizadores. São também chamados, usando um termo emprestado da economia: um \"agente racional\".\\nO agente inteligente, é aquele que adota a melhor ação possível perante uma situação, estando presente na resolução duma infinidade de problemas dos utilizadores comuns. Hoje, a internet conta com diversas iniciativas que utilizam agentes, desde sites que comparam preços de bens de consumo, a mecanismos de busca inteligentes, que navegam dentro das páginas web, apresentando o resultado da busca classificado pelo grau de precisão e relevância dos assuntos.\\nNa língua portuguesa o significado do termo \"agente\" é geralmente interpretada nos dicionários como:\\n\\nAlguém que atua diretamente;\\nAlguém atuando ou fazendo negócios por outro;\\nProcurador, delegado.\\nEstas definições atendem algumas características, mas não contemplam o amplo significado dum agente inteligente.\\nUm agente é definido como uma entidade computacional que funciona de forma contínua e autónoma num ambiente restrito, dentro do qual, podem existir outros agentes com características comuns ou não. Informalmente um agente é alguém ou algo que atua como um procurador com propósito específico de realizar ações que podem ser entendidas como benéficas dentro do contexto onde ele atua.\\nUm sistema poderá ser visto como um agente se for capaz de analisar e determinar o seu ambiente por meio de sensores e de agir sobre esse ambiente por intermédio de atuadores agregando as características como autonomia, habilidade social, reatividade e proatividade. São eles:\\n\\nAgentes reativos: podem desenvolver inteligência a partir de interações com seu ambiente, não necessitam de modelo preestabelecido.\\nAgentes reativos simples: Respondem a perceções, interpretam entrada, verificam regra correspondente e agem\\nAgentes reativos baseado em modelo: mantêm o estado interno para aspectos não percebidos; Estado interno modela mundo; Podem utilizar perceções passadas para base em decisões\\nAgentes cognitivos: complexos, com mecanismos de tomada de decisões avançados, interações sofisticadas e com um objetivo fortemente estabelecido.\\nAgentes baseados em objetivos: procuram atingir alvos, são mais flexíveis que os agentes reativos.\\nAgentes baseados em utilidade: tentam maximizar as suas expectativas e ponderam a probabilidade de sucesso, em relação à importância de objetivos'"
      ]
     },
     "execution_count": 4,
     "metadata": {},
     "output_type": "execute_result"
    }
   ],
   "source": [
    "busca_wikipedia.invoke({\"query\": \"langchain\"})"
   ]
  },
  {
   "cell_type": "code",
   "execution_count": 5,
   "metadata": {},
   "outputs": [],
   "source": [
    "from langchain.prompts import ChatPromptTemplate\n",
    "from langchain_openai import ChatOpenAI\n",
    "from langchain_core.utils.function_calling import convert_to_openai_function\n",
    "\n",
    "prompt = ChatPromptTemplate.from_messages([\n",
    "    (\"system\", \"Você é um assistente que sabe sobre futebol\"),\n",
    "    (\"user\", \"{input}\")\n",
    "])\n",
    "\n",
    "chat = ChatOpenAI()\n",
    "\n",
    "tools = [convert_to_openai_function(busca_wikipedia)]\n",
    "\n",
    "chain = prompt | chat.bind(functions=tools)"
   ]
  },
  {
   "cell_type": "code",
   "execution_count": 6,
   "metadata": {},
   "outputs": [
    {
     "data": {
      "text/plain": [
       "AIMessage(content='Olá! Como posso te ajudar hoje?', additional_kwargs={'refusal': None}, response_metadata={'token_usage': {'completion_tokens': 12, 'prompt_tokens': 70, 'total_tokens': 82, 'completion_tokens_details': {'accepted_prediction_tokens': 0, 'audio_tokens': 0, 'reasoning_tokens': 0, 'rejected_prediction_tokens': 0}, 'prompt_tokens_details': {'audio_tokens': 0, 'cached_tokens': 0}}, 'model_name': 'gpt-3.5-turbo-0125', 'system_fingerprint': None, 'id': 'chatcmpl-CD5bGWJenPlZpOJwkqnQWclFQQmfR', 'service_tier': 'default', 'finish_reason': 'stop', 'logprobs': None}, id='run--44a102e5-c3b0-41db-955e-3c3957133103-0', usage_metadata={'input_tokens': 70, 'output_tokens': 12, 'total_tokens': 82, 'input_token_details': {'audio': 0, 'cache_read': 0}, 'output_token_details': {'audio': 0, 'reasoning': 0}})"
      ]
     },
     "execution_count": 6,
     "metadata": {},
     "output_type": "execute_result"
    }
   ],
   "source": [
    "chain.invoke({\"input\": \"olá\"})"
   ]
  },
  {
   "cell_type": "code",
   "execution_count": 7,
   "metadata": {},
   "outputs": [
    {
     "data": {
      "text/plain": [
       "AIMessage(content='Tanto Ronaldinho Gaúcho quanto Messi são considerados dois dos melhores jogadores de futebol da história, porém, é difícil dizer quem foi melhor, pois eles têm estilos de jogo diferentes e atuaram em épocas diferentes. Ronaldinho Gaúcho era conhecido por sua magia, dribles e criatividade, enquanto Messi é famoso por sua consistência, habilidade técnica e incrível capacidade de marcar gols.\\n\\nAmbos conquistaram diversos títulos e prêmios individuais ao longo de suas carreiras. Ronaldinho Gaúcho teve um impacto muito grande no Barcelona, enquanto Messi se tornou uma lenda do clube, quebrando inúmeros recordes e sendo considerado um dos maiores jogadores do mundo.\\n\\nPortanto, a questão de quem foi melhor entre Ronaldinho Gaúcho e Messi é bastante subjetiva e depende da preferência do fã de futebol. Ambos deixaram um legado incrível no esporte.', additional_kwargs={'refusal': None}, response_metadata={'token_usage': {'completion_tokens': 220, 'prompt_tokens': 80, 'total_tokens': 300, 'completion_tokens_details': {'accepted_prediction_tokens': 0, 'audio_tokens': 0, 'reasoning_tokens': 0, 'rejected_prediction_tokens': 0}, 'prompt_tokens_details': {'audio_tokens': 0, 'cached_tokens': 0}}, 'model_name': 'gpt-3.5-turbo-0125', 'system_fingerprint': None, 'id': 'chatcmpl-CD5bOxjEpxOCjfzzSkSZt6nNbGg7t', 'service_tier': 'default', 'finish_reason': 'stop', 'logprobs': None}, id='run--1826d949-6a7b-441e-887e-37f14426c5ce-0', usage_metadata={'input_tokens': 80, 'output_tokens': 220, 'total_tokens': 300, 'input_token_details': {'audio': 0, 'cache_read': 0}, 'output_token_details': {'audio': 0, 'reasoning': 0}})"
      ]
     },
     "execution_count": 7,
     "metadata": {},
     "output_type": "execute_result"
    }
   ],
   "source": [
    "chain.invoke({\"input\": \"Quem foi melhor Ronaldinho Gaúcho ou Messi?\"})"
   ]
  }
 ],
 "metadata": {
  "kernelspec": {
   "display_name": ".venv",
   "language": "python",
   "name": "python3"
  },
  "language_info": {
   "codemirror_mode": {
    "name": "ipython",
    "version": 3
   },
   "file_extension": ".py",
   "mimetype": "text/x-python",
   "name": "python",
   "nbconvert_exporter": "python",
   "pygments_lexer": "ipython3",
   "version": "3.11.9"
  }
 },
 "nbformat": 4,
 "nbformat_minor": 2
}
