{
 "cells": [
  {
   "cell_type": "markdown",
   "metadata": {},
   "source": [
    "### Tools Default Integration"
   ]
  },
  {
   "cell_type": "code",
   "execution_count": 1,
   "metadata": {},
   "outputs": [
    {
     "data": {
      "text/plain": [
       "'A Python shell. Use this to execute python commands. Input should be a valid python command. If you want to see the output of a value, you should print it out with `print(...)`.'"
      ]
     },
     "execution_count": 1,
     "metadata": {},
     "output_type": "execute_result"
    }
   ],
   "source": [
    "from langchain_experimental.tools.python.tool import PythonREPLTool\n",
    "\n",
    "tool_repl = PythonREPLTool()\n",
    "tool_repl.description"
   ]
  },
  {
   "cell_type": "code",
   "execution_count": 2,
   "metadata": {},
   "outputs": [
    {
     "name": "stderr",
     "output_type": "stream",
     "text": [
      "Python REPL can execute arbitrary code. Use with caution.\n"
     ]
    },
    {
     "data": {
      "text/plain": [
       "\"The Zen of Python, by Tim Peters\\n\\nBeautiful is better than ugly.\\nExplicit is better than implicit.\\nSimple is better than complex.\\nComplex is better than complicated.\\nFlat is better than nested.\\nSparse is better than dense.\\nReadability counts.\\nSpecial cases aren't special enough to break the rules.\\nAlthough practicality beats purity.\\nErrors should never pass silently.\\nUnless explicitly silenced.\\nIn the face of ambiguity, refuse the temptation to guess.\\nThere should be one-- and preferably only one --obvious way to do it.\\nAlthough that way may not be obvious at first unless you're Dutch.\\nNow is better than never.\\nAlthough never is often better than *right* now.\\nIf the implementation is hard to explain, it's a bad idea.\\nIf the implementation is easy to explain, it may be a good idea.\\nNamespaces are one honking great idea -- let's do more of those!\\n\""
      ]
     },
     "execution_count": 2,
     "metadata": {},
     "output_type": "execute_result"
    }
   ],
   "source": [
    "tool_repl.run({\"query\": \"import this\"})"
   ]
  },
  {
   "cell_type": "code",
   "execution_count": 3,
   "metadata": {},
   "outputs": [],
   "source": [
    "from langchain.agents import load_tools\n",
    "\n",
    "tools = load_tools([\"stackexchange\"])\n",
    "\n",
    "tool_stack = tools[0]"
   ]
  },
  {
   "cell_type": "code",
   "execution_count": 4,
   "metadata": {},
   "outputs": [
    {
     "data": {
      "text/plain": [
       "'Question: &#39;uv sync&#39; to install python package, but tell me compile command not find?\\nhelp: `preshed` (v3.0.9) was included because `deepdevflow` (v0.1.0) depends on `spacy` (v3.8.5) which depends on `preshed`\\n\\npyproject.toml:\\ndependencies = [\\n    &quot;gradio&gt;=4.13.0&quot;,\\n    &quot;<span class=\"highlight\">langchain</span>&gt;=0.1.0 &hellip; &quot;,\\n    &quot;<span class=\"highlight\">langchain</span>-core&gt;=0.1.0&quot;,\\n    &quot;<span class=\"highlight\">langchain</span>-community&gt;=0.0.13&quot;,\\n    &quot;langgraph&gt;=0.0.25&quot;,\\n    &quot;<span class=\"highlight\">langchain</span>-experimental&gt;=0.0.36&quot;,\\n    &quot;langchain_ollama&gt;=0.0.1&quot;,\\n    &quot;fastapi&gt;=0.110.0&quot;,\\n    &quot;uvicorn&gt;=0.27.0 &hellip; \\nAnswer: preshed 3.0.9 provides wheels up to Python 3.12 but not 3.13 so build tool (uv in your case) tried to compile from sources.\\nSolution: try Python 3.12. Or compile from sources.\\n\\n\\nQuestion: TS2307: Cannot find module langchain/document_loaders/web/puppeteer or its corresponding type declarations\\nI have been having issues with <span class=\"highlight\">langchain</span>/ puppeteer for the last few days and it is the only error in my code that has so far been unresolvable. &hellip; <span class=\"highlight\">langchain</span> giving me this error &hellip; \\nAnswer: The official site says to install, run:\\nnpm i @<span class=\"highlight\">langchain</span>/community  @<span class=\"highlight\">langchain</span>/core puppeteer\\n\\nb. … It also says to instantiate, use:\\nimport { PuppeteerWebBaseLoader } from \"@<span class=\"highlight\">langchain</span>/community/document_loaders/web/puppeteer\";\\n\\nIn your code, you are missing the @ and /community.\\n\\n\\nEnjoy! … \\n\\nQuestion: How to retrieve the current conversation ID inside a tool function in LangGraph?\\nreturn &quot;some result&quot;\\n\\n\\nRelated discussion: https://github.com/<span class=\"highlight\">langchain</span>-ai/langgraph/discussions/6076 &hellip; \\nAnswer: In LangGraph, we can embed per-invocation metadata, like a session_id or user_id into the config object. That means this metadata becomes accessible inside your tool function through the RunnableConfi … '"
      ]
     },
     "execution_count": 4,
     "metadata": {},
     "output_type": "execute_result"
    }
   ],
   "source": [
    "tool_stack.run({\"query\": \"LangChain\"})"
   ]
  }
 ],
 "metadata": {
  "kernelspec": {
   "display_name": ".venv",
   "language": "python",
   "name": "python3"
  },
  "language_info": {
   "codemirror_mode": {
    "name": "ipython",
    "version": 3
   },
   "file_extension": ".py",
   "mimetype": "text/x-python",
   "name": "python",
   "nbconvert_exporter": "python",
   "pygments_lexer": "ipython3",
   "version": "3.11.9"
  }
 },
 "nbformat": 4,
 "nbformat_minor": 2
}
