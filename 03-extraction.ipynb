{
 "cells": [
  {
   "cell_type": "markdown",
   "metadata": {},
   "source": [
    "### Extração de Eventos e Datas (a partir de um texto)"
   ]
  },
  {
   "cell_type": "code",
   "execution_count": 1,
   "metadata": {},
   "outputs": [],
   "source": [
    "texto = \"\"\"\n",
    "A Microsoft foi fundada em 4 de abril de 1975 por Bill Gates e Paul Allen, em Albuquerque, \n",
    "no estado do Novo México. O nome \"Microsoft\" é uma combinação das palavras \"microcomputador\" \n",
    "e \"software\", refletindo o foco da empresa em software para computadores pessoais.\n",
    "O primeiro grande projeto da Microsoft foi a criação de um sistema operacional para o \n",
    "computador Altair 8800, um dos primeiros microcomputadores disponíveis comercialmente. \n",
    "O sistema, denominado Altair BASIC, foi desenvolvido em parceria com a MITS \n",
    "(Micro Instrumentation and Telemetry Systems) e foi um marco inicial para a Microsoft.\n",
    "Em 1980, a empresa firmou um contrato significativo com a IBM para fornecer o sistema \n",
    "operacional para o novo PC da IBM, o que levou à criação do MS-DOS. Esse contrato foi um \n",
    "ponto de virada para a Microsoft, impulsionando sua expansão e dominando o mercado de \n",
    "sistemas operacionais para PCs nos anos seguintes.\n",
    "Com o sucesso do MS-DOS, a Microsoft se consolidou como líder no setor de software e, \n",
    "em 1985, lançou o Windows, um sistema operacional gráfico que viria a se tornar a base \n",
    "de sua supremacia no mercado de sistemas operacionais para desktop.\n",
    "\"\"\""
   ]
  },
  {
   "cell_type": "code",
   "execution_count": 2,
   "metadata": {},
   "outputs": [
    {
     "name": "stderr",
     "output_type": "stream",
     "text": [
      "c:\\Dados\\Guilherme\\02-CURSOS\\01-FAZENDO\\UDEMY-Langchain\\99999-agents\\.venv\\Lib\\site-packages\\IPython\\core\\interactiveshell.py:3699: LangChainDeprecationWarning: As of langchain-core 0.3.0, LangChain uses pydantic v2 internally. The langchain.pydantic_v1 module was a compatibility shim for pydantic v1, and should no longer be used. Please update the code to import from Pydantic directly.\n",
      "\n",
      "For example, replace imports like: `from langchain.pydantic_v1 import BaseModel`\n",
      "with: `from pydantic import BaseModel`\n",
      "or the v1 compatibility namespace if you are working in a code base that has not been fully upgraded to pydantic 2 yet. \tfrom pydantic.v1 import BaseModel\n",
      "\n",
      "  exec(code_obj, self.user_global_ns, self.user_ns)\n"
     ]
    }
   ],
   "source": [
    "from langchain.pydantic_v1 import BaseModel, Field\n",
    "from typing import List\n",
    "from langchain_core.utils.function_calling import convert_to_openai_function"
   ]
  },
  {
   "cell_type": "markdown",
   "metadata": {},
   "source": [
    "##### usando LangChain, conseguimos construir \"Function Callings\" muito mais rápido"
   ]
  },
  {
   "cell_type": "code",
   "execution_count": 3,
   "metadata": {},
   "outputs": [
    {
     "data": {
      "text/plain": [
       "{'name': 'EventsList',\n",
       " 'description': 'Lista de Eventos para Extração',\n",
       " 'parameters': {'type': 'object',\n",
       "  'properties': {'events': {'description': 'Conjunto de eventos encontrados no texto fornecido',\n",
       "    'type': 'array',\n",
       "    'items': {'description': 'Informações sobre um evento ocorrido',\n",
       "     'type': 'object',\n",
       "     'properties': {'date': {'description': 'Data do evento no formato YYYY-MM-DD',\n",
       "       'type': 'string'},\n",
       "      'event': {'description': 'Descrição do evento extraído do texto',\n",
       "       'type': 'string'}},\n",
       "     'required': ['date', 'event']}}},\n",
       "  'required': ['events']}}"
      ]
     },
     "execution_count": 3,
     "metadata": {},
     "output_type": "execute_result"
    }
   ],
   "source": [
    "class Event(BaseModel):\n",
    "    \"\"\"Informações sobre um evento ocorrido\"\"\"\n",
    "    date: str = Field(description=\"Data do evento no formato YYYY-MM-DD\")\n",
    "    event: str = Field(description=\"Descrição do evento extraído do texto\")\n",
    "    \n",
    "class EventsList(BaseModel):\n",
    "    \"\"\"Lista de Eventos para Extração\"\"\"\n",
    "    events: List[Event] = Field(description=\"Conjunto de eventos encontrados no texto fornecido\")\n",
    "    \n",
    "tool_events = convert_to_openai_function(EventsList)\n",
    "tool_events"
   ]
  },
  {
   "cell_type": "code",
   "execution_count": 4,
   "metadata": {},
   "outputs": [],
   "source": [
    "from langchain.prompts import ChatPromptTemplate\n",
    "from langchain_openai import ChatOpenAI\n",
    "\n",
    "prompt = ChatPromptTemplate.from_messages([\n",
    "    (\"system\", \"Extraia as frases de acontecimentos e as extraia integralmente\"),\n",
    "    (\"user\", \"{input}\")\n",
    "])\n",
    "\n",
    "chat = ChatOpenAI()\n",
    "\n",
    "chain = (prompt | chat.bind(functions=[tool_events],\n",
    "                            function_call={\"name\":\"EventsList\"}))"
   ]
  },
  {
   "cell_type": "code",
   "execution_count": 5,
   "metadata": {},
   "outputs": [
    {
     "data": {
      "text/plain": [
       "AIMessage(content='', additional_kwargs={'function_call': {'arguments': '{\"events\":[{\"date\":\"1975-04-04\",\"event\":\"A Microsoft foi fundada por Bill Gates e Paul Allen em Albuquerque, no estado do Novo México.\"},{\"date\":\"1980\",\"event\":\"A Microsoft firmou um contrato significativo com a IBM para fornecer o sistema operacional para o novo PC da IBM, levando à criação do MS-DOS.\"},{\"date\":\"1985\",\"event\":\"A Microsoft lançou o Windows, seu sistema operacional gráfico que se tornaria a base de sua supremacia no mercado de sistemas operacionais para desktop.\"}]}', 'name': 'EventsList'}, 'refusal': None}, response_metadata={'token_usage': {'completion_tokens': 121, 'prompt_tokens': 426, 'total_tokens': 547, 'completion_tokens_details': {'accepted_prediction_tokens': 0, 'audio_tokens': 0, 'reasoning_tokens': 0, 'rejected_prediction_tokens': 0}, 'prompt_tokens_details': {'audio_tokens': 0, 'cached_tokens': 0}}, 'model_name': 'gpt-3.5-turbo-0125', 'system_fingerprint': None, 'id': 'chatcmpl-CCn5Fe9cFIZgRF86DabF5ZO53LqQE', 'service_tier': 'default', 'finish_reason': 'stop', 'logprobs': None}, id='run--25f56317-bd22-41fc-894d-acf7eef418d1-0', usage_metadata={'input_tokens': 426, 'output_tokens': 121, 'total_tokens': 547, 'input_token_details': {'audio': 0, 'cache_read': 0}, 'output_token_details': {'audio': 0, 'reasoning': 0}})"
      ]
     },
     "execution_count": 5,
     "metadata": {},
     "output_type": "execute_result"
    }
   ],
   "source": [
    "chain.invoke({\"input\": texto})"
   ]
  },
  {
   "cell_type": "markdown",
   "metadata": {},
   "source": [
    "##### Fazendo o \"Output Parser\" usando JSON "
   ]
  },
  {
   "cell_type": "code",
   "execution_count": 6,
   "metadata": {},
   "outputs": [
    {
     "data": {
      "text/plain": [
       "{'events': [{'date': '1975-04-04',\n",
       "   'event': 'A Microsoft foi fundada por Bill Gates e Paul Allen em Albuquerque, Novo México.'},\n",
       "  {'date': '1980',\n",
       "   'event': 'A Microsoft firmou um contrato significativo com a IBM para fornecer o sistema operacional para o novo PC, resultando no desenvolvimento do MS-DOS.'},\n",
       "  {'date': '1985',\n",
       "   'event': 'A Microsoft lançou o Windows, um sistema operacional gráfico que se tornou a base de sua supremacia no mercado de sistemas operacionais para desktop.'}]}"
      ]
     },
     "execution_count": 6,
     "metadata": {},
     "output_type": "execute_result"
    }
   ],
   "source": [
    "from langchain.output_parsers.openai_functions import JsonOutputFunctionsParser\n",
    "\n",
    "chain = (prompt \n",
    "         | chat.bind(functions=[tool_events], function_call={'name': 'EventsList'})\n",
    "         | JsonOutputFunctionsParser())\n",
    "\n",
    "chain.invoke({'input': texto})"
   ]
  },
  {
   "cell_type": "markdown",
   "metadata": {},
   "source": [
    "### Extraindo Dados da Web"
   ]
  },
  {
   "cell_type": "code",
   "execution_count": 15,
   "metadata": {},
   "outputs": [
    {
     "data": {
      "text/plain": [
       "[Document(metadata={'source': 'https://economia.uol.com.br/colunas/felipe-salto', 'title': 'Access Denied', 'language': 'No language found.'}, page_content='\\nAccess Denied\\n\\nAccess Denied\\n \\nYou don\\'t have permission to access \"http://economia.uol.com.br/colunas/felipe-salto\" on this server.\\nReference #18.b5781002.1757165930.fae7bae\\nhttps://errors.edgesuite.net/18.b5781002.1757165930.fae7bae\\n\\n\\n')]"
      ]
     },
     "execution_count": 15,
     "metadata": {},
     "output_type": "execute_result"
    }
   ],
   "source": [
    "from langchain_community.document_loaders.web_base import WebBaseLoader\n",
    "\n",
    "#loader = WebBaseLoader(\"https://www.techtudo.com.br\")\n",
    "#loader = WebBaseLoader(\"https://noticias.uol.com.br\")\n",
    "loader = WebBaseLoader(\"https://economia.uol.com.br/colunas/felipe-salto\")\n",
    "page = loader.load()\n",
    "page"
   ]
  },
  {
   "cell_type": "code",
   "execution_count": 16,
   "metadata": {},
   "outputs": [
    {
     "data": {
      "text/plain": [
       "{'name': 'BlogSite',\n",
       " 'description': 'Conjunto de postagens de blog de um site específico',\n",
       " 'parameters': {'type': 'object',\n",
       "  'properties': {'posts': {'description': 'Coleção de postagens de blog do site',\n",
       "    'type': 'array',\n",
       "    'items': {'description': 'Detalhes sobre uma postagem de blog',\n",
       "     'type': 'object',\n",
       "     'properties': {'title': {'description': 'Título da postagem no blog',\n",
       "       'type': 'string'},\n",
       "      'author': {'description': 'Nome do autor da postagem no blog',\n",
       "       'type': 'string'}},\n",
       "     'required': ['title', 'author']}}},\n",
       "  'required': ['posts']}}"
      ]
     },
     "execution_count": 16,
     "metadata": {},
     "output_type": "execute_result"
    }
   ],
   "source": [
    "class BlogPost(BaseModel):\n",
    "    \"\"\"Detalhes sobre uma postagem de blog\"\"\"\n",
    "    title: str = Field(description=\"Título da postagem no blog\")\n",
    "    author: str = Field(description=\"Nome do autor da postagem no blog\")\n",
    "    \n",
    "class BlogSite(BaseModel):\n",
    "    \"\"\"Conjunto de postagens de blog de um site específico\"\"\"\n",
    "    posts: List[BlogPost] = Field(description=\"Coleção de postagens de blog do site\")\n",
    "    \n",
    "tool_blog = convert_to_openai_function(BlogSite)\n",
    "tool_blog"
   ]
  },
  {
   "cell_type": "code",
   "execution_count": 18,
   "metadata": {},
   "outputs": [],
   "source": [
    "from langchain.output_parsers.openai_functions import JsonKeyOutputFunctionsParser\n",
    "from langchain.prompts import ChatPromptTemplate\n",
    "from langchain_openai import ChatOpenAI\n",
    "\n",
    "prompt = ChatPromptTemplate.from_messages([\n",
    "    ('system', 'Extraia da página os posts do blog com as informações especificadas'),\n",
    "    ('user', '{input}')\n",
    "])\n",
    "chat = ChatOpenAI()\n",
    "chain = (prompt \n",
    "         | chat.bind(functions=[tool_blog], function_call={'name': 'BlogSite'})\n",
    "         | JsonKeyOutputFunctionsParser(key_name='posts'))"
   ]
  },
  {
   "cell_type": "code",
   "execution_count": 19,
   "metadata": {},
   "outputs": [
    {
     "data": {
      "text/plain": [
       "[{'title': 'Title of Blog Post 1', 'author': 'Author 1'},\n",
       " {'title': 'Title of Blog Post 2', 'author': 'Author 2'}]"
      ]
     },
     "execution_count": 19,
     "metadata": {},
     "output_type": "execute_result"
    }
   ],
   "source": [
    "chain.invoke({\"input\": page})"
   ]
  }
 ],
 "metadata": {
  "kernelspec": {
   "display_name": ".venv",
   "language": "python",
   "name": "python3"
  },
  "language_info": {
   "codemirror_mode": {
    "name": "ipython",
    "version": 3
   },
   "file_extension": ".py",
   "mimetype": "text/x-python",
   "name": "python",
   "nbconvert_exporter": "python",
   "pygments_lexer": "ipython3",
   "version": "3.11.9"
  }
 },
 "nbformat": 4,
 "nbformat_minor": 2
}
