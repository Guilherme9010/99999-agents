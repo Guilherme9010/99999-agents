{
 "cells": [
  {
   "cell_type": "code",
   "execution_count": 1,
   "metadata": {},
   "outputs": [
    {
     "name": "stderr",
     "output_type": "stream",
     "text": [
      "c:\\Dados\\Guilherme\\02-CURSOS\\01-FAZENDO\\UDEMY-Langchain\\99999-agents\\.venv\\Lib\\site-packages\\IPython\\core\\interactiveshell.py:3699: LangChainDeprecationWarning: As of langchain-core 0.3.0, LangChain uses pydantic v2 internally. The langchain.pydantic_v1 module was a compatibility shim for pydantic v1, and should no longer be used. Please update the code to import from Pydantic directly.\n",
      "\n",
      "For example, replace imports like: `from langchain.pydantic_v1 import BaseModel`\n",
      "with: `from pydantic import BaseModel`\n",
      "or the v1 compatibility namespace if you are working in a code base that has not been fully upgraded to pydantic 2 yet. \tfrom pydantic.v1 import BaseModel\n",
      "\n",
      "  exec(code_obj, self.user_global_ns, self.user_ns)\n"
     ]
    }
   ],
   "source": [
    "from langchain.agents import tool\n",
    "from langchain.pydantic_v1 import BaseModel, Field"
   ]
  },
  {
   "cell_type": "code",
   "execution_count": 2,
   "metadata": {},
   "outputs": [],
   "source": [
    "class CalcularDistanciaArgs(BaseModel):\n",
    "    cidade_origem: str = Field(description=\"CIdade de origem\",\n",
    "                               examples=[\"São Paulo\", \"Rio de Janeiro\"])\n",
    "    cidade_destino: str = Field(description=\"CIdade de destino\",\n",
    "                               examples=[\"Porto Alegre\", \"Curitiba\"])\n",
    "    \n",
    "@tool(args_schema=CalcularDistanciaArgs)\n",
    "def calcular_distancia(cidade_origem: str, cidade_destino: str):\n",
    "    \"\"\"Calcula a distância entre duas cidades\"\"\"\n",
    "    return f\"A distância entre {cidade_origem} e {cidade_destino} é de 300km\""
   ]
  },
  {
   "cell_type": "code",
   "execution_count": 3,
   "metadata": {},
   "outputs": [
    {
     "data": {
      "text/plain": [
       "'A distância entre São Paulo e Porto Alegre é de 300km'"
      ]
     },
     "execution_count": 3,
     "metadata": {},
     "output_type": "execute_result"
    }
   ],
   "source": [
    "calcular_distancia.invoke({\"cidade_origem\": \"São Paulo\",\n",
    "                           \"cidade_destino\": \"Porto Alegre\"})"
   ]
  },
  {
   "cell_type": "code",
   "execution_count": 4,
   "metadata": {},
   "outputs": [
    {
     "data": {
      "text/plain": [
       "StructuredTool(name='realizar_calculo', description='Realiza operações matemáticas básicas', args_schema=<class '__main__.OperacaoMatematicaArgs'>, func=<function realizar_calculo at 0x000002814DE300E0>)"
      ]
     },
     "execution_count": 4,
     "metadata": {},
     "output_type": "execute_result"
    }
   ],
   "source": [
    "from langchain.agents import tool\n",
    "from langchain.pydantic_v1 import BaseModel, Field\n",
    "\n",
    "class OperacaoMatematicaArgs(BaseModel):\n",
    "    numero1: float = Field(description=\"Primeiro número\", examples=[10, 5])\n",
    "    numero2: float = Field(description=\"Segundo número\", examples=[20, 3])\n",
    "    operacao: str = Field(description=\"Operação a ser realizada\", examples=[\"soma\", \"subtração\"])\n",
    "    \n",
    "@tool(args_schema=OperacaoMatematicaArgs)\n",
    "def realizar_calculo(numero1: float, numero2: float, operacao: str):\n",
    "    \"\"\"Realiza operações matemáticas básicas\"\"\"\n",
    "    if operacao == \"soma\":\n",
    "        return numero1 + numero2\n",
    "    elif operacao == \"subtração\":\n",
    "        return numero1 + numero2\n",
    "    else:\n",
    "        return \"Operação inválida\"\n",
    "    \n",
    "realizar_calculo\n",
    "    \n",
    "    "
   ]
  },
  {
   "cell_type": "code",
   "execution_count": 7,
   "metadata": {},
   "outputs": [
    {
     "data": {
      "text/plain": [
       "60.0"
      ]
     },
     "execution_count": 7,
     "metadata": {},
     "output_type": "execute_result"
    }
   ],
   "source": [
    "realizar_calculo.invoke({\n",
    "    \"numero1\": 10,\n",
    "    \"numero2\": 50,\n",
    "    \"operacao\": \"soma\"\n",
    "})"
   ]
  },
  {
   "cell_type": "code",
   "execution_count": 8,
   "metadata": {},
   "outputs": [
    {
     "data": {
      "text/plain": [
       "StructuredTool(name='obter_informacoes_filme', description='Retorna informações sobre um filme', args_schema=<class '__main__.InformacoesFilmeArgs'>, func=<function obter_informacoes_filme at 0x000002814DE1BF60>)"
      ]
     },
     "execution_count": 8,
     "metadata": {},
     "output_type": "execute_result"
    }
   ],
   "source": [
    "from langchain.agents import tool\n",
    "from langchain.pydantic_v1 import BaseModel, Field\n",
    "\n",
    "class InformacoesFilmeArgs(BaseModel):\n",
    "    titulo_filme: str = Field(description='Título do filme', \n",
    "                              examples=['Inception', 'The Matrix'])\n",
    "\n",
    "@tool(args_schema=InformacoesFilmeArgs)\n",
    "def obter_informacoes_filme(titulo_filme: str):\n",
    "    '''Retorna informações sobre um filme'''\n",
    "    # Simulando a resposta com informações fictícias\n",
    "    return f'O filme \"{titulo_filme}\" foi lançado em 2010, dirigido por Christopher Nolan.'\n",
    "\n",
    "obter_informacoes_filme"
   ]
  },
  {
   "cell_type": "code",
   "execution_count": 9,
   "metadata": {},
   "outputs": [
    {
     "data": {
      "text/plain": [
       "'O filme \"Inception\" foi lançado em 2010, dirigido por Christopher Nolan.'"
      ]
     },
     "execution_count": 9,
     "metadata": {},
     "output_type": "execute_result"
    }
   ],
   "source": [
    "obter_informacoes_filme.invoke({'titulo_filme': 'Inception'})"
   ]
  }
 ],
 "metadata": {
  "kernelspec": {
   "display_name": ".venv",
   "language": "python",
   "name": "python3"
  },
  "language_info": {
   "codemirror_mode": {
    "name": "ipython",
    "version": 3
   },
   "file_extension": ".py",
   "mimetype": "text/x-python",
   "name": "python",
   "nbconvert_exporter": "python",
   "pygments_lexer": "ipython3",
   "version": "3.11.9"
  }
 },
 "nbformat": 4,
 "nbformat_minor": 2
}
