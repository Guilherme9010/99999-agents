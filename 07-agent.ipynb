{
 "cells": [
  {
   "cell_type": "markdown",
   "metadata": {},
   "source": [
    "### Criando Agentes Simples"
   ]
  },
  {
   "cell_type": "code",
   "execution_count": 1,
   "metadata": {},
   "outputs": [
    {
     "name": "stderr",
     "output_type": "stream",
     "text": [
      "C:\\Users\\Naja\\AppData\\Local\\Temp\\ipykernel_27864\\2117815099.py:4: LangChainDeprecationWarning: The class `OpenAI` was deprecated in LangChain 0.0.10 and will be removed in 1.0. An updated version of the class exists in the :class:`~langchain-openai package and should be used instead. To use it run `pip install -U :class:`~langchain-openai` and import as `from :class:`~langchain_openai import OpenAI``.\n",
      "  llm = OpenAI(temperature=0)\n"
     ]
    }
   ],
   "source": [
    "from langchain.agents import initialize_agent, Tool, AgentType\n",
    "from langchain.llms import OpenAI\n",
    "\n",
    "llm = OpenAI(temperature=0)\n",
    "\n",
    "def resposta_simples(query):\n",
    "    return f\"A resposta para '{query}' é Paris.\""
   ]
  },
  {
   "cell_type": "code",
   "execution_count": 2,
   "metadata": {},
   "outputs": [],
   "source": [
    "tools = [\n",
    "    Tool(\n",
    "        name=\"Respostas Simples\",\n",
    "        func=resposta_simples,\n",
    "        description=\"Uma ferramenta simples para responder perguntas diretas\"\n",
    "    )\n",
    "]"
   ]
  },
  {
   "cell_type": "code",
   "execution_count": 3,
   "metadata": {},
   "outputs": [
    {
     "name": "stderr",
     "output_type": "stream",
     "text": [
      "C:\\Users\\Naja\\AppData\\Local\\Temp\\ipykernel_27864\\1755534265.py:1: LangChainDeprecationWarning: LangChain agents will continue to be supported, but it is recommended for new use cases to be built with LangGraph. LangGraph offers a more flexible and full-featured framework for building agents, including support for tool-calling, persistence of state, and human-in-the-loop workflows. For details, refer to the `LangGraph documentation <https://langchain-ai.github.io/langgraph/>`_ as well as guides for `Migrating from AgentExecutor <https://python.langchain.com/docs/how_to/migrate_agent/>`_ and LangGraph's `Pre-built ReAct agent <https://langchain-ai.github.io/langgraph/how-tos/create-react-agent/>`_.\n",
      "  agent = initialize_agent(tools, llm, agent_type=AgentType.ZERO_SHOT_REACT_DESCRIPTION, verbose=True)\n",
      "C:\\Users\\Naja\\AppData\\Local\\Temp\\ipykernel_27864\\1755534265.py:4: LangChainDeprecationWarning: The method `Chain.run` was deprecated in langchain 0.1.0 and will be removed in 1.0. Use :meth:`~invoke` instead.\n",
      "  response = agent.run(input_query)\n"
     ]
    },
    {
     "name": "stdout",
     "output_type": "stream",
     "text": [
      "\n",
      "\n",
      "\u001b[1m> Entering new AgentExecutor chain...\u001b[0m\n",
      "\u001b[32;1m\u001b[1;3m I should use a tool to find the answer\n",
      "Action: Respostas Simples\n",
      "Action Input: Qual é a capital da França?\u001b[0m\n",
      "Observation: \u001b[36;1m\u001b[1;3mA resposta para 'Qual é a capital da França?' é Paris.\u001b[0m\n",
      "Thought:\u001b[32;1m\u001b[1;3m I now know the final answer\n",
      "Final Answer: Paris\u001b[0m\n",
      "\n",
      "\u001b[1m> Finished chain.\u001b[0m\n",
      "Paris\n"
     ]
    }
   ],
   "source": [
    "agent = initialize_agent(tools, llm, agent_type=AgentType.ZERO_SHOT_REACT_DESCRIPTION, verbose=True)\n",
    "\n",
    "input_query = \"QUal é a capital da França?\"\n",
    "response = agent.run(input_query)\n",
    "print(response)"
   ]
  },
  {
   "cell_type": "markdown",
   "metadata": {},
   "source": [
    "### Criando 2º Agente Simples"
   ]
  },
  {
   "cell_type": "code",
   "execution_count": 4,
   "metadata": {},
   "outputs": [],
   "source": [
    "from langchain.agents import AgentExecutor\n",
    "import sqlite3"
   ]
  },
  {
   "cell_type": "code",
   "execution_count": 5,
   "metadata": {},
   "outputs": [],
   "source": [
    "def create_database():\n",
    "    conn = sqlite3.connect(\":memory:\")\n",
    "    c = conn.cursor()\n",
    "    c.execute(\"\"\"CREATE TABLE users (id INTEGER PRIMARY KEY, name TEXT, age INTEGER)\"\"\")\n",
    "    c.execute(\"INSERT INTO users (name, age) VALUES ('João', 25), ('Maria', 30)\")\n",
    "    conn.commit()\n",
    "    return conn\n",
    "\n",
    "def search_user_db(user_name):\n",
    "    conn = create_database()\n",
    "    c = conn.cursor()\n",
    "    c.execute(\"SELECT name, age FROM users WHERE name = ?\", (user_name, ))\n",
    "    result = c.fetchone()\n",
    "    conn.close()\n",
    "    if result:\n",
    "        return f\"{result[0]} tem {result[1]} anos\"\n",
    "    else: \n",
    "        return \"Usuário não encontrado\"\n",
    "    \n",
    "def sum_numbers(numbers):\n",
    "    if isinstance(numbers, str):\n",
    "        numbers = eval(numbers)\n",
    "    \n",
    "    if isinstance(numbers, list):\n",
    "        total = sum(numbers)\n",
    "        return f\"A soma dos números {numbers} é {total}\"\n",
    "    else:\n",
    "        return \"Erro: A entrada não é uma lista de números válida.\""
   ]
  },
  {
   "cell_type": "code",
   "execution_count": 6,
   "metadata": {},
   "outputs": [],
   "source": [
    "tools = [\n",
    "    Tool(\n",
    "        name=\"Buscar Usuário no BD\",\n",
    "        func=search_user_db,\n",
    "        description=\"Procura informações sobre um usuário na base de dados\"\n",
    "    ),\n",
    "    Tool(\n",
    "        name=\"Calcular Soma\",\n",
    "        func=sum_numbers,\n",
    "        description=\"Calcula a soma de uma lista de números\"\n",
    "    )\n",
    "]"
   ]
  },
  {
   "cell_type": "code",
   "execution_count": 7,
   "metadata": {},
   "outputs": [
    {
     "name": "stdout",
     "output_type": "stream",
     "text": [
      "\n",
      "\n",
      "\u001b[1m> Entering new AgentExecutor chain...\u001b[0m\n",
      "\u001b[32;1m\u001b[1;3m I need to calculate the sum of the numbers and find out Maria's age.\n",
      "Action: Calcular Soma\n",
      "Action Input: 5, 10, 15\u001b[0m\n",
      "Observation: \u001b[33;1m\u001b[1;3mErro: A entrada não é uma lista de números válida.\u001b[0m\n",
      "Thought:\u001b[32;1m\u001b[1;3m I need to input a list of numbers for the calculation.\n",
      "Action: Calcular Soma\n",
      "Action Input: [5, 10, 15]\u001b[0m\n",
      "Observation: \u001b[33;1m\u001b[1;3mA soma dos números [5, 10, 15] é 30\u001b[0m\n",
      "Thought:\u001b[32;1m\u001b[1;3m Now I have the sum, I need to find Maria's age.\n",
      "Action: Buscar Usuário no BD\n",
      "Action Input: Maria\u001b[0m\n",
      "Observation: \u001b[36;1m\u001b[1;3mMaria tem 30 anos\u001b[0m\n",
      "Thought:\u001b[32;1m\u001b[1;3m I now know the final answer.\n",
      "Final Answer: A soma dos números é 30 e Maria tem 30 anos.\u001b[0m\n",
      "\n",
      "\u001b[1m> Finished chain.\u001b[0m\n",
      "A soma dos números é 30 e Maria tem 30 anos.\n"
     ]
    }
   ],
   "source": [
    "agent = initialize_agent(tools, llm, agent_type=AgentType.ZERO_SHOT_REACT_DESCRIPTION, verbose=True)\n",
    "\n",
    "input_query=\"Qual é a soma de 5, 10 e 15? Quantos anos Maria tem?\"\n",
    "response = agent.run(input_query)\n",
    "print(response)"
   ]
  }
 ],
 "metadata": {
  "kernelspec": {
   "display_name": ".venv",
   "language": "python",
   "name": "python3"
  },
  "language_info": {
   "codemirror_mode": {
    "name": "ipython",
    "version": 3
   },
   "file_extension": ".py",
   "mimetype": "text/x-python",
   "name": "python",
   "nbconvert_exporter": "python",
   "pygments_lexer": "ipython3",
   "version": "3.11.9"
  }
 },
 "nbformat": 4,
 "nbformat_minor": 2
}
